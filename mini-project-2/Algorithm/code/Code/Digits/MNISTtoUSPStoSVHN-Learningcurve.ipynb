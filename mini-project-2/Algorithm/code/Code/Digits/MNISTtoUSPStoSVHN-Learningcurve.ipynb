{
 "cells": [
  {
   "cell_type": "code",
   "execution_count": 1,
   "metadata": {},
   "outputs": [
    {
     "name": "stderr",
     "output_type": "stream",
     "text": [
      "Using TensorFlow backend.\n"
     ]
    }
   ],
   "source": [
    "import numpy as np\n",
    "from utils import *\n",
    "import csv\n",
    "import keras.utils\n",
    "from tensorflow.keras import backend as K\n",
    "from tensorflow.keras.datasets import mnist\n",
    "from tensorflow.keras.models import save_model,load_model,Model\n",
    "from tensorflow.keras.optimizers import Adam, RMSprop, Adamax\n",
    "from tensorflow.keras.layers import Conv2D, UpSampling2D, AveragePooling2D, MaxPooling2D, Dense,Input, Dropout\n",
    "from tensorflow.keras.layers import LeakyReLU,Reshape,BatchNormalization, Flatten\n",
    "from tensorflow.keras.models import save_model\n",
    "from tempfile import TemporaryFile\n",
    "import tensorflow as tf\n",
    "import pickle\n",
    "import scipy.io as sio\n",
    "import matplotlib.pyplot as plt\n",
    "from IPython import display\n",
    "import time\n",
    "from sklearn.mixture import GaussianMixture\n",
    "import umap\n",
    "from copy import deepcopy\n",
    "from PIL import Image\n",
    "from sklearn.cluster import KMeans\n",
    "from tensorflow.keras import regularizers\n",
    "from tensorflow.keras.applications.resnet50 import ResNet50\n",
    "from tensorflow.keras.preprocessing import image\n",
    "from tensorflow.keras.applications.resnet50 import preprocess_input, decode_predictions\n",
    "\n",
    "from tensorflow.keras.layers import Input, Conv2D, Activation, BatchNormalization, GlobalAveragePooling2D, Dense, Dropout\n",
    "from tensorflow.keras.activations import relu, softmax\n",
    "from tensorflow.keras.models import Model\n",
    "from tensorflow.keras import regularizers\n",
    "\n",
    "from tensorflow.keras.models import Sequential\n",
    "from tensorflow.keras.layers import Dense, Dropout, Flatten\n",
    "from tensorflow.keras.applications.resnet50 import ResNet50\n",
    "import numpy as np\n",
    "import matplotlib.pyplot as plt\n",
    "import tensorflow.keras.layers as layers\n",
    "from tensorflow.keras.models import Model\n",
    "from tensorflow.keras.preprocessing import image\n",
    "from tensorflow.keras.initializers import glorot_uniform\n",
    "from tensorflow.keras.optimizers import SGD\n",
    "from array import array \n",
    "import json\n",
    "\n",
    "\n",
    "import os\n",
    "cwd = os.getcwd()\n",
    "\n",
    "from scipy.io import loadmat\n",
    "from PIL import Image\n",
    "from skimage.transform import rescale, resize\n",
    "from skimage.color import rgb2gray\n",
    "from sklearn.metrics import pairwise_distances_argmin_min"
   ]
  },
  {
   "cell_type": "code",
   "execution_count": 2,
   "metadata": {},
   "outputs": [],
   "source": [
    "# import os\n",
    "# os.environ[\"CUDA_VISIBLE_DEVICES\"] = \"0\"\n",
    "# from keras import backend as K\n",
    "# config = tf.ConfigProto()\n",
    "# config.gpu_options.allow_growth = True\n",
    "# K.tensorflow_backend.set_session(tf.Session(config=config))"
   ]
  },
  {
   "cell_type": "code",
   "execution_count": null,
   "metadata": {},
   "outputs": [],
   "source": []
  },
  {
   "cell_type": "code",
   "execution_count": 3,
   "metadata": {},
   "outputs": [
    {
     "name": "stdout",
     "output_type": "stream",
     "text": [
      "WARNING:tensorflow:From /nas/home/.local/lib/python3.7/site-packages/tensorflow/python/compat/v2_compat.py:96: disable_resource_variables (from tensorflow.python.ops.variable_scope) is deprecated and will be removed in a future version.\n",
      "Instructions for updating:\n",
      "non-resource variables are not supported in the long term\n"
     ]
    }
   ],
   "source": [
    "import tensorflow.compat.v1 as tf\n",
    "tf.disable_v2_behavior()\n"
   ]
  },
  {
   "cell_type": "code",
   "execution_count": null,
   "metadata": {},
   "outputs": [],
   "source": []
  },
  {
   "cell_type": "code",
   "execution_count": 4,
   "metadata": {},
   "outputs": [],
   "source": [
    "# ! pip install --user umap-learn\n",
    "# ##! pip uninstall --user keras\n",
    "# ! pip install --user keras==2.1.6\n",
    "# ! pip install --user matplotlib\n",
    "# ! pip install --user np_utils\n",
    "# ! pip install --user  Pillow"
   ]
  },
  {
   "cell_type": "code",
   "execution_count": 5,
   "metadata": {},
   "outputs": [],
   "source": [
    "import os\n",
    "cwd = os.getcwd()"
   ]
  },
  {
   "cell_type": "code",
   "execution_count": 6,
   "metadata": {},
   "outputs": [],
   "source": [
    "zdim=10 # This is the dimension of intermediate latent variable \n",
    "epochs = 6000\n",
    "epochstep = epochs/100\n",
    "nofclasses=10\n",
    "batchsize=200 \n",
    "nofprojections = 100"
   ]
  },
  {
   "cell_type": "markdown",
   "metadata": {},
   "source": [
    "## Data Generation"
   ]
  },
  {
   "cell_type": "code",
   "execution_count": 7,
   "metadata": {},
   "outputs": [],
   "source": [
    "def getData(nMNIST,nUSPS,nSVHN):\n",
    "    \n",
    "    \n",
    "    #Read MNIST\n",
    "\n",
    "    (x_train,y_train),(x_test,y_test)=mnist.load_data()\n",
    "    dataX_train=np.expand_dims(x_train.astype('float32')/255.,3)\n",
    "    dataX_test=np.expand_dims(x_test.astype('float32')/255.,3)\n",
    "\n",
    "    labelX_train = keras.utils.to_categorical(y_train, nofclasses)\n",
    "    labelX_test = keras.utils.to_categorical(y_test, nofclasses)\n",
    "\n",
    "\n",
    "    numdataTrain = labelX_train.shape[0]\n",
    "    numdataTest = labelX_test.shape[0]\n",
    "\n",
    "    dataX_train1 = np.reshape(dataX_train,[numdataTrain,28*28]) \n",
    "    dataX_test1 = np.reshape(dataX_test,[numdataTest,28*28]) \n",
    "\n",
    "\n",
    "    USPSMat  = []\n",
    "    USPSTar  = []\n",
    "    curPath  = r'/nas/home/USPSDataset/Numerals'\n",
    "    savedImg = []\n",
    "\n",
    "    for j in range(0,10):\n",
    "        curFolderPath = curPath + '/' + str(j) \n",
    "        imgs =  os.listdir(curFolderPath)\n",
    "        for img in imgs:\n",
    "            curImg = curFolderPath + '/' + img\n",
    "            if curImg[-3:] == 'png':\n",
    "                img = Image.open(curImg,'r')\n",
    "                img = img.resize((28, 28))\n",
    "                savedImg = img\n",
    "                tempim = np.array(img.getdata())\n",
    "                tempim = np.reshape(tempim,[28,28])\n",
    "                imgdata = ((255-tempim).astype(float))/255\n",
    "                USPSMat.append(imgdata)\n",
    "                USPSTar.append(j)\n",
    "\n",
    "\n",
    "    dataY_train1 = np.array(USPSMat)\n",
    "    USPSTar = np.array(USPSTar)\n",
    "    labelY_train = keras.utils.to_categorical(USPSTar, nofclasses)\n",
    "\n",
    "    dataY_train = np.zeros([len(USPSMat),28,28,1])\n",
    "    for i in range(len(USPSMat)):\n",
    "        dataY_train[i,:,:,0] = USPSMat[i]   \n",
    "\n",
    "\n",
    "    USPSMattest  = []\n",
    "    USPSTartest  = []\n",
    "    curPathtest  = r'/nas/home/USPSDataset/Test'\n",
    "    savedImgtest = []\n",
    "\n",
    "    curFolderPathtest = curPathtest \n",
    "    imgs =  os.listdir(curFolderPathtest)\n",
    "    for img in imgs:\n",
    "        curImg = curFolderPathtest+'/'+img \n",
    "        if curImg[-3:] == 'png':\n",
    "            imgt = Image.open(curImg,'r')\n",
    "            imgt = imgt.resize((28, 28))\n",
    "            savedImg = imgt\n",
    "            lab =9- int(int(img[-8:-4])/150)        \n",
    "            tempim = np.array(imgt.getdata())\n",
    "            tempim = np.reshape(tempim,[28,28])\n",
    "            imgdata = ((255-tempim).astype(float))/255        \n",
    "            USPSMattest.append(imgdata)\n",
    "            USPSTartest.append(lab)\n",
    "\n",
    "\n",
    "    dataY_test1 = np.array(USPSMattest)\n",
    "    USPSTartest = np.array(USPSTartest)\n",
    "    labelY_test = keras.utils.to_categorical(USPSTartest, nofclasses)\n",
    "\n",
    "\n",
    "    dataY_test = np.zeros([len(USPSMattest),28,28,1])\n",
    "    for i in range(len(USPSMattest)):\n",
    "        dataY_test[i,:,:,0] = USPSMattest[i]\n",
    "\n",
    "\n",
    "    USPSMat  = []\n",
    "    USPSTar  = []\n",
    "    curPath  = r'/nas/home/SVHNdataset/'\n",
    "    savedImg = []\n",
    "\n",
    "    train = loadmat(curPath+'train_32x32.mat')\n",
    "    test = loadmat(curPath+'test_32x32.mat')\n",
    "\n",
    "    # train and test are python dictionaries\n",
    "    # keys are ['__header__', '__version__', '__globals__', 'X', 'y']\n",
    "\n",
    "    zX_train = train['X']\n",
    "    zy_train = train['y']\n",
    "    zX_test = test['X']\n",
    "    zy_test = test['y']\n",
    "\n",
    "    zX_train = np.rollaxis(zX_train, 3)\n",
    "    zX_test = np.rollaxis(zX_test, 3)\n",
    "\n",
    "\n",
    "    zy_train1 = zy_train\n",
    "    zy_test1 = zy_test\n",
    "    zy_train = np.zeros(zy_train1.shape[0])\n",
    "    zy_test = np.zeros(zy_test.shape[0])\n",
    "\n",
    "    for i in range(zy_test.shape[0]):\n",
    "        zy_test[i] = zy_test1[i][0]\n",
    "        if zy_test[i]==10:\n",
    "            zy_test[i] = 0\n",
    "\n",
    "    for i in range(zy_train.shape[0]):\n",
    "        zy_train[i] = zy_train1[i][0]\n",
    "        if zy_train[i]==10:\n",
    "            zy_train[i] = 0\n",
    "\n",
    "    labelZ_train = keras.utils.to_categorical(zy_train, nofclasses)\n",
    "    labelZ_test = keras.utils.to_categorical(zy_test, nofclasses)\n",
    "\n",
    "    dataZ_train = np.zeros([zy_train1.shape[0],28,28,1])\n",
    "    dataZ_test = np.zeros([zy_test1.shape[0],28,28,1])\n",
    "\n",
    "\n",
    "    for i in range(zX_train.shape[0]):\n",
    "        dataZ_train[i,:,:,0] =  resize(rgb2gray(zX_train[i,:,:,0]),[28,28])\n",
    "\n",
    "    for i in range(zX_test.shape[0]):\n",
    "        dataZ_test[i,:,:,0] =  resize(rgb2gray(zX_test[i,:,:,0]),[28,28])\n",
    "\n",
    "\n",
    "    task1 = nMNIST\n",
    "    task2 = nUSPS\n",
    "    task3 = nSVHN\n",
    " \n",
    "    DATAX_train = {}\n",
    "    DATAY_train = {}\n",
    "    DATAX_test = {}\n",
    "    DATAY_test = {}\n",
    "    # MNIST\n",
    "    DATAX_train[task1] = dataX_train\n",
    "    DATAY_train[task1] = labelX_train\n",
    "    DATAX_test[task1] = dataX_test\n",
    "    DATAY_test[task1] = labelX_test\n",
    "    # USPS\n",
    "    DATAX_train[task2] = dataY_train\n",
    "    DATAY_train[task2] = labelY_train\n",
    "    DATAX_test[task2] = dataY_test\n",
    "    DATAY_test[task2] = labelY_test\n",
    "    # SVHN\n",
    "    DATAX_train[task3] = dataZ_train\n",
    "    DATAY_train[task3] = labelZ_train\n",
    "    DATAX_test[task3] = dataZ_test\n",
    "    DATAY_test[task3] = labelZ_test\n",
    "    \n",
    "    return DATAX_train, DATAY_train, DATAX_test, DATAY_test"
   ]
  },
  {
   "cell_type": "markdown",
   "metadata": {},
   "source": [
    "###  X is input and Z the embedding space"
   ]
  },
  {
   "cell_type": "code",
   "execution_count": 8,
   "metadata": {},
   "outputs": [],
   "source": [
    "imgX = Input(shape=(28, 28, 1), name=\"input_img\")  # adapt this if using `channels_first` image data format\n",
    "labelX=K.placeholder(shape=(None,nofclasses),dtype='float32') #labels of input images oneHot"
   ]
  },
  {
   "cell_type": "code",
   "execution_count": 9,
   "metadata": {},
   "outputs": [],
   "source": [
    "# classifier = load_model(filepath='classifierEXT.h5')\n",
    "# encoderX = load_model(filepath='encoderXEXT.h5')"
   ]
  },
  {
   "cell_type": "markdown",
   "metadata": {},
   "source": [
    "## Encoder, Decoder and Classifier NN"
   ]
  },
  {
   "cell_type": "code",
   "execution_count": 10,
   "metadata": {},
   "outputs": [],
   "source": [
    "def ClassifierNN(imgX,nofclasses):\n",
    "    x = Conv2D(64, (3, 3), activation='relu', padding='same', name='block1_conv1')(imgX)\n",
    "    x = Conv2D(64, (3, 3), activation='relu', padding='same', name='block1_conv2')(x)\n",
    "    x = MaxPooling2D((3, 3), strides=(2, 2), name='block1_pool')(x)\n",
    "\n",
    "    # Block 2\n",
    "    x = Conv2D(128, (3, 3), activation='relu', padding='same', name='block2_conv1')(x)\n",
    "    x = Conv2D(128, (3, 3), activation='relu', padding='same', name='block2_conv2')(x)\n",
    "    x = MaxPooling2D((3, 3), strides=(2, 2), name='block2_pool')(x)\n",
    "\n",
    "    # Block 3\n",
    "    x = Conv2D(256, (3, 3), activation='relu', padding='same', name='block3_conv1')(x)\n",
    "    x = Conv2D(256, (3, 3), activation='relu', padding='same', name='block3_conv2')(x)\n",
    "    x = Conv2D(256, (3, 3), activation='relu', padding='same', name='block3_conv3')(x)\n",
    "    x = MaxPooling2D((3, 3), strides=(2, 2), name='block3_pool')(x)\n",
    "    '''\n",
    "    # Block 4\n",
    "    x = Conv2D(512, (3, 3), activation='relu', padding='same', name='block4_conv1')(x)\n",
    "    x = Conv2D(512, (3, 3), activation='relu', padding='same', name='block4_conv2')(x)\n",
    "    x = Conv2D(512, (3, 3), activation='relu', padding='same', name='block4_conv3')(x)\n",
    "    x = MaxPooling2D((3, 3), strides=(2, 2), name='block4_pool')(x)\n",
    "    # Block 5\n",
    "    x = Conv2D(512, (2, 2), activation='relu', padding='same', name='block5_conv1')(x)\n",
    "    x = Conv2D(512, (2, 2), activation='relu', padding='same', name='block5_conv2')(x)\n",
    "    x = Conv2D(512, (2, 2), activation='relu', padding='valid', name='block5_conv3')(x)\n",
    "    x = MaxPooling2D((2, 2), strides=(2, 2), name='block5_pool')(x)\n",
    "    '''\n",
    "    # Top layers\n",
    "    x = Flatten(name='flatten')(x)\n",
    "    x = Dense(1024, activation='relu')(x)\n",
    "    x = Dropout(0.5)(x)\n",
    "    x = Dense(1024, activation='relu')(x)\n",
    "    x = Dropout(0.5)(x)\n",
    "\n",
    "\n",
    "\n",
    "\n",
    "    embed = Dense(nofclasses, activation='relu')(x)\n",
    "    encoderX = Model(imgX, embed)\n",
    "\n",
    "    return encoderX\n",
    "\n",
    "    \n",
    "\n"
   ]
  },
  {
   "cell_type": "code",
   "execution_count": 11,
   "metadata": {},
   "outputs": [],
   "source": [
    "def    classifierNN(nofclasses):\n",
    "    yin =  Input(shape=( nofclasses,) )\n",
    "\n",
    "    probX = Dense(nofclasses, activation='softmax')(yin)\n",
    "\n",
    "\n",
    "    classifier=Model(inputs=[yin],outputs=[probX])\n",
    "    return classifier\n"
   ]
  },
  {
   "cell_type": "code",
   "execution_count": 12,
   "metadata": {},
   "outputs": [],
   "source": [
    "def myGMMfit(encoderX,classifier,dataX_train,labelX_train,nofclasses):\n",
    "    gmmX = encoderX.predict(dataX_train)\n",
    "    gmmY = np.argmax(labelX_train,axis=1)\n",
    "\n",
    "\n",
    "    yper = classifier.predict(encoderX.predict(dataX_train))\n",
    "    yper = np.argmax(yper, axis=1)\n",
    "\n",
    "\n",
    "    gmmX = gmmX[gmmY==yper,:]\n",
    "    gmmY = gmmY[gmmY==yper]\n",
    "\n",
    "    gmmModel =  GaussianMixture(n_components=nofclasses,covariance_type='full', max_iter=300,init_params='kmeans', tol=1e-04) \n",
    "\n",
    "\n",
    "    gmmModel.fit(gmmX,gmmY)\n",
    "\n",
    "    gmmModelSingle =  GaussianMixture(n_components=1,covariance_type='full') \n",
    "\n",
    "    for i in range(nofclasses):\n",
    "        a= gmmX[gmmY==i,:]\n",
    "        gmmModelSingle.fit(a)\n",
    "        gmmModel.weights_[i] = .1 #gmmY[gmmY==i].shape[0]/gmmY.shape[0]\n",
    "        gmmModel.covariances_[i] = gmmModelSingle.covariances_[0]\n",
    "        gmmModel.means_[i] = gmmModelSingle.means_[0]\n",
    "\n",
    "        gmmModel.precisions_cholesky_[i] = gmmModelSingle.precisions_cholesky_[0]\n",
    "        gmmModel.precisions_[i] = gmmModelSingle.precisions_[0]\n",
    "\n",
    "\n",
    "    return gmmModel\n",
    "\n"
   ]
  },
  {
   "cell_type": "code",
   "execution_count": 13,
   "metadata": {},
   "outputs": [],
   "source": [
    "def buffSelection(encoderX,gmmModel,dataX_train,labelX_train,sizeperCl):\n",
    "    \n",
    "    gmmX = encoderX.predict(dataX_train)\n",
    "    gmmY = np.argmax(labelX_train,axis=1)\n",
    "\n",
    "    for i in range(nofclasses):\n",
    "        \n",
    "        ind = np.where(np.argmax(labelX_train,axis=1)==i)[0] \n",
    "        tempdataembed = gmmX[ind,:]\n",
    "        tempData = dataX_train[ind,:]\n",
    "        probabs = np.max(gmmModel.predict_proba(tempdataembed),axis=1) \n",
    "        if i == 0:\n",
    "            buffData = tempData[probabs.argsort()[-sizeperCl:][::-1],:] \n",
    "            buffLab = i*np.ones([sizeperCl,1])\n",
    "        else:\n",
    "            buffData = np.concatenate([buffData,tempData[probabs.argsort()[-sizeperCl:][::-1],:]],axis=0)\n",
    "            buffLab = np.concatenate([buffLab,i*np.ones([sizeperCl,1])])\n",
    "    buffLab = keras.utils.to_categorical(buffLab, labelX_train.shape[1])\n",
    "    return buffData, buffLab   "
   ]
  },
  {
   "cell_type": "code",
   "execution_count": 14,
   "metadata": {
    "scrolled": true
   },
   "outputs": [],
   "source": [
    "def Learnseq(nMNIST,nUSPS,nSVHN):\n",
    "    \n",
    "    DATAX_train, DATAY_train, DATAX_test, DATAY_test = getData(nMNIST,nUSPS,nSVHN)\n",
    "    sizeperCl = 10\n",
    "    nofclasses = 10\n",
    "    Results1 = []\n",
    "    Results2 = []\n",
    "    Results3 = []\n",
    "    epochs = 6000\n",
    "    epochstep = epochs/100\n",
    "    for ntask in range(3):\n",
    "\n",
    "        if ntask == 0:\n",
    "            dataX_train = DATAX_train[ntask]\n",
    "            labelX_train = DATAY_train[ntask]\n",
    "            dataX_test = DATAX_test[ntask]\n",
    "            labelX_test = DATAY_test[ntask]\n",
    "\n",
    "\n",
    "            classifier = classifierNN(nofclasses)\n",
    "            encoderX = ClassifierNN(imgX,nofclasses)\n",
    "\n",
    "            discriminationLoss=K.mean(K.categorical_crossentropy(labelX,classifier(encoderX(imgX)))) \n",
    "            params=encoderX.weights  + classifier.weights  \n",
    "            myLoss = discriminationLoss\n",
    "            opt = Adam(lr=1e-4) # very important\n",
    "            updates = opt.get_updates(myLoss,params)\n",
    "            train = K.function(inputs=[imgX,labelX],outputs=[discriminationLoss],updates=updates)\n",
    "\n",
    "            loss = []\n",
    "            fig,ax=plt.subplots(1,figsize=(10,10))\n",
    "\n",
    "            for itr in range(epochs):\n",
    "\n",
    "                indTrainDataX,trainLabelX=batchGenerator(labelX_train,batchsize,nofclasses=10)\n",
    "                trainDataX=dataX_train[indTrainDataX,...]\n",
    "                loss.append(train(inputs=[trainDataX, trainLabelX ]))\n",
    "\n",
    "\n",
    "                if itr%epochstep==0:\n",
    "                    perd_label_X = classifier.predict(encoderX.predict(DATAX_test[0]))\n",
    "                    perd_label_Y = classifier.predict(encoderX.predict(DATAX_test[1]))\n",
    "                    perd_label_Z = classifier.predict(encoderX.predict(DATAX_test[2]))\n",
    "                    Results1.append(100*float(sum(1*(np.argmax(perd_label_X,axis=1)==np.argmax(np.squeeze(DATAY_test[0]),axis=1))))/DATAX_test[0].shape[0])\n",
    "                    Results2.append(100*float(sum(1*(np.argmax(perd_label_Y,axis=1)==np.argmax(np.squeeze(DATAY_test[1]),axis=1))))/DATAX_test[1].shape[0])\n",
    "                    Results3.append(100*float(sum(1*(np.argmax(perd_label_Z,axis=1)==np.argmax(np.squeeze(DATAY_test[2]),axis=1))))/DATAX_test[2].shape[0])\n",
    "\n",
    "\n",
    "            # GMM fiting and buffer      \n",
    "            gmmModel = myGMMfit(encoderX,classifier,dataX_train,labelX_train,nofclasses)\n",
    "            buffData, buffLab   = buffSelection(encoderX,gmmModel,dataX_train,labelX_train,sizeperCl)\n",
    "\n",
    "\n",
    "        else:\n",
    "\n",
    "            dataY_train = DATAX_train[ntask]\n",
    "            labelY_train = DATAY_train[ntask]\n",
    "            dataY_test = DATAX_test[ntask]\n",
    "            labelY_test = DATAY_test[ntask]\n",
    "\n",
    "            imgY = Input(shape=(nofclasses,) )  # adapt this if using `channels_first` image data format\n",
    "            labelY=K.placeholder(shape=(None,nofclasses),dtype='float32') #labels of input images oneHot\n",
    "            lamda2=1e-2\n",
    "            theta=tf.keras.backend.placeholder(shape = (nofprojections, nofclasses), dtype='float32')\n",
    "            labelW =  K.placeholder(shape=(None,nofclasses),dtype='float32') #labels of input images oneHot\n",
    "            imgW = Input(shape=(28, 28, 1) )  \n",
    "\n",
    "            discriminationLoss= K.mean(K.categorical_crossentropy(labelY,classifier(imgY)))   \\\n",
    "                                + K.mean(K.categorical_crossentropy(labelW,classifier(encoderX(imgW))))   \n",
    "            matchingLoss=sWasserstein(encoderX(imgX),imgY,theta,nclass=nofclasses,Cp=None,Cq=None,)+\\\n",
    "                            sWasserstein(encoderX(imgX),encoderX(imgW),theta,nclass=nofclasses,Cp=None,Cq=None,)+\\\n",
    "                            sWasserstein(encoderX(imgW),imgY,theta,nclass=nofclasses,Cp=None,Cq=None,)\n",
    "            myLoss=  lamda2*matchingLoss  + discriminationLoss  \n",
    "            params=encoderX.weights  + classifier.weights  \n",
    "            opt = Adam(lr=1e-4) # very important\n",
    "            updates = opt.get_updates(myLoss,params)\n",
    "            train = K.function(inputs=[imgX,imgY,labelY,theta,imgW, labelW],outputs=[lamda2*matchingLoss],updates=updates)\n",
    "\n",
    "\n",
    "\n",
    "            thres = .9\n",
    "            fig,ax=plt.subplots(1,figsize=(10,10))\n",
    "            epochs2 = 50 * 100\n",
    "            epochstep = epochs2/100\n",
    "\n",
    "            for itr in range(epochs2):\n",
    "                indTrainDataY,trainLabelY=batchGenerator(labelY_train,batchsize,nofclasses=10)\n",
    "                trainDataY=dataY_train[indTrainDataY,...]\n",
    "\n",
    "                indTrainDataX,trainLabelX=batchGenerator(buffLab,batchsize,nofclasses=nofclasses)\n",
    "                trainDataX=buffData[indTrainDataX,...]    \n",
    "\n",
    "                Yembed,Yembedlabel1  = gmmModel.sample(n_samples=20*batchsize)\n",
    "                Yembedlabel = keras.utils.to_categorical(Yembedlabel1)   \n",
    "\n",
    "\n",
    "                theta_=generateTheta(nofprojections,nofclasses)\n",
    "                loss.append(train(inputs=[trainDataY,Yembed,Yembedlabel,theta_ ,trainDataX, trainLabelX ]))\n",
    "\n",
    "\n",
    "\n",
    "                if itr%epochstep==0:\n",
    "                    perd_label_X = classifier.predict(encoderX.predict(DATAX_test[0]))\n",
    "                    perd_label_Y = classifier.predict(encoderX.predict(DATAX_test[1]))\n",
    "                    perd_label_Z = classifier.predict(encoderX.predict(DATAX_test[2]))\n",
    "                    Results1.append(100*float(sum(1*(np.argmax(perd_label_X,axis=1)==np.argmax(np.squeeze(DATAY_test[0]),axis=1))))/DATAY_test[0].shape[0])\n",
    "                    Results2.append(100*float(sum(1*(np.argmax(perd_label_Y,axis=1)==np.argmax(np.squeeze(DATAY_test[1]),axis=1))))/DATAY_test[1].shape[0])\n",
    "                    Results3.append(100*float(sum(1*(np.argmax(perd_label_Z,axis=1)==np.argmax(np.squeeze(DATAY_test[2]),axis=1))))/DATAY_test[2].shape[0])\n",
    "\n",
    "\n",
    "\n",
    "            if ntask == 2:\n",
    "                break\n",
    "\n",
    "\n",
    "            # GMM fiting and buffer  \n",
    "\n",
    "    #         dataX_temp =  np.concatenate([buffData,dataY_train],axis=0)\n",
    "    #         labelX_temp = np.concatenate([buffLab,labelY_train],axis=0)\n",
    "            gmmModel = myGMMfit(encoderX,classifier,dataY_train,labelY_train,nofclasses)\n",
    "            buffDatatemp, buffLabtemp   = buffSelection(encoderX,gmmModel,dataY_train,labelY_train,sizeperCl)\n",
    "\n",
    "            buffData = np.concatenate([buffData,buffDatatemp],axis=0)\n",
    "            buffLab = np.concatenate([buffLab,buffLabtemp],axis=0)\n",
    "\n",
    "    return Results1, Results2, Results3"
   ]
  },
  {
   "cell_type": "code",
   "execution_count": 15,
   "metadata": {},
   "outputs": [
    {
     "name": "stderr",
     "output_type": "stream",
     "text": [
      "/nas/home/anaconda3/envs/tf1/lib/python3.7/site-packages/ipykernel_launcher.py:125: FutureWarning: The behavior of rgb2gray will change in scikit-image 0.19. Currently, rgb2gray allows 2D grayscale image to be passed as inputs and leaves them unmodified as outputs. Starting from version 0.19, 2D arrays will be treated as 1D images with 3 channels.\n",
      "/nas/home/anaconda3/envs/tf1/lib/python3.7/site-packages/ipykernel_launcher.py:128: FutureWarning: The behavior of rgb2gray will change in scikit-image 0.19. Currently, rgb2gray allows 2D grayscale image to be passed as inputs and leaves them unmodified as outputs. Starting from version 0.19, 2D arrays will be treated as 1D images with 3 channels.\n"
     ]
    },
    {
     "name": "stdout",
     "output_type": "stream",
     "text": [
      "WARNING:tensorflow:From /nas/home/.local/lib/python3.7/site-packages/tensorflow/python/keras/engine/training_v1.py:2070: Model.state_updates (from tensorflow.python.keras.engine.training) is deprecated and will be removed in a future version.\n",
      "Instructions for updating:\n",
      "This property should not be used in TensorFlow 2.0, as updates are applied automatically.\n"
     ]
    },
    {
     "name": "stderr",
     "output_type": "stream",
     "text": [
      "/nas/home/.local/lib/python3.7/site-packages/tensorflow/python/framework/indexed_slices.py:432: UserWarning: Converting sparse IndexedSlices to a dense Tensor of unknown shape. This may consume a large amount of memory.\n",
      "  \"Converting sparse IndexedSlices to a dense Tensor of unknown shape. \"\n",
      "/nas/home/.local/lib/python3.7/site-packages/tensorflow/python/framework/indexed_slices.py:432: UserWarning: Converting sparse IndexedSlices to a dense Tensor of unknown shape. This may consume a large amount of memory.\n",
      "  \"Converting sparse IndexedSlices to a dense Tensor of unknown shape. \"\n",
      "/nas/home/anaconda3/envs/tf1/lib/python3.7/site-packages/ipykernel_launcher.py:125: FutureWarning: The behavior of rgb2gray will change in scikit-image 0.19. Currently, rgb2gray allows 2D grayscale image to be passed as inputs and leaves them unmodified as outputs. Starting from version 0.19, 2D arrays will be treated as 1D images with 3 channels.\n",
      "/nas/home/anaconda3/envs/tf1/lib/python3.7/site-packages/ipykernel_launcher.py:128: FutureWarning: The behavior of rgb2gray will change in scikit-image 0.19. Currently, rgb2gray allows 2D grayscale image to be passed as inputs and leaves them unmodified as outputs. Starting from version 0.19, 2D arrays will be treated as 1D images with 3 channels.\n",
      "/nas/home/.local/lib/python3.7/site-packages/tensorflow/python/framework/indexed_slices.py:432: UserWarning: Converting sparse IndexedSlices to a dense Tensor of unknown shape. This may consume a large amount of memory.\n",
      "  \"Converting sparse IndexedSlices to a dense Tensor of unknown shape. \"\n",
      "/nas/home/.local/lib/python3.7/site-packages/tensorflow/python/framework/indexed_slices.py:432: UserWarning: Converting sparse IndexedSlices to a dense Tensor of unknown shape. This may consume a large amount of memory.\n",
      "  \"Converting sparse IndexedSlices to a dense Tensor of unknown shape. \"\n"
     ]
    },
    {
     "data": {
      "image/png": "[encoded data removed]",
      "text/plain": [
       "<Figure size 720x720 with 1 Axes>"
      ]
     },
     "metadata": {
      "needs_background": "light"
     },
     "output_type": "display_data"
    },
    {
     "data": {
      "image/png": "[encoded data removed]",
      "text/plain": [
       "<Figure size 720x720 with 1 Axes>"
      ]
     },
     "metadata": {
      "needs_background": "light"
     },
     "output_type": "display_data"
    },
    {
     "data": {
      "image/png": "[encoded data removed]",
      "text/plain": [
       "<Figure size 720x720 with 1 Axes>"
      ]
     },
     "metadata": {
      "needs_background": "light"
     },
     "output_type": "display_data"
    },
    {
     "data": {
      "image/png": "[encoded data removed]",
      "text/plain": [
       "<Figure size 720x720 with 1 Axes>"
      ]
     },
     "metadata": {
      "needs_background": "light"
     },
     "output_type": "display_data"
    },
    {
     "data": {
      "image/png": "[encoded data removed]",
      "text/plain": [
       "<Figure size 720x720 with 1 Axes>"
      ]
     },
     "metadata": {
      "needs_background": "light"
     },
     "output_type": "display_data"
    },
    {
     "data": {
      "image/png": "[encoded data removed]",
      "text/plain": [
       "<Figure size 720x720 with 1 Axes>"
      ]
     },
     "metadata": {
      "needs_background": "light"
     },
     "output_type": "display_data"
    }
   ],
   "source": [
    "nMNIST = 2\n",
    "nUSPS = 1\n",
    "nSVHN = 0\n",
    "\n",
    "Results1, Results2, Results3 = Learnseq(nMNIST,nUSPS,nSVHN)\n",
    "\n",
    "nMNIST = 1\n",
    "nUSPS = 2\n",
    "nSVHN = 0\n",
    "\n",
    "Results11, Results21, Results31 = Learnseq(nMNIST,nUSPS,nSVHN)\n"
   ]
  },
  {
   "cell_type": "code",
   "execution_count": null,
   "metadata": {},
   "outputs": [],
   "source": []
  },
  {
   "cell_type": "code",
   "execution_count": 16,
   "metadata": {},
   "outputs": [
    {
     "data": {
      "image/png": "[encoded data removed]",
      "text/plain": [
       "<Figure size 720x720 with 1 Axes>"
      ]
     },
     "metadata": {
      "needs_background": "light"
     },
     "output_type": "display_data"
    }
   ],
   "source": [
    "fig,ax=plt.subplots(1,figsize=(10,10))\n",
    "\n",
    "\n",
    "plt.plot(Results1, '-.b', linewidth=4.0, label='S')\n",
    "\n",
    "plt.plot(list(range(100,300)),Results2[100:], 'r', linewidth=4.0, label='U')\n",
    "\n",
    "plt.plot(list(range(200,300)),Results3[200:], '--k', linewidth=4.0, label='M')\n",
    "\n",
    "\n",
    "\n",
    "\n",
    "plt.legend(loc='lower right', fontsize=28)\n",
    "\n",
    "plt.xlabel('Epochs', fontsize=28)\n",
    "plt.ylabel('Acc', fontsize=28)\n",
    "plt.xticks(fontsize=25)\n",
    "plt.yticks(fontsize=25)\n",
    "plt.ylim([0,101])\n",
    "plt.grid()\n",
    "plt.show()\n"
   ]
  },
  {
   "cell_type": "code",
   "execution_count": 17,
   "metadata": {},
   "outputs": [
    {
     "data": {
      "image/png": "[encoded data removed]",
      "text/plain": [
       "<Figure size 720x720 with 1 Axes>"
      ]
     },
     "metadata": {
      "needs_background": "light"
     },
     "output_type": "display_data"
    }
   ],
   "source": [
    "fig,ax=plt.subplots(1,figsize=(10,10))\n",
    "\n",
    "\n",
    "plt.plot(Results11, '-.b', linewidth=4.0, label='S')\n",
    "\n",
    "plt.plot(list(range(100,300)),Results21[100:], 'r', linewidth=4.0, label='M')\n",
    "\n",
    "plt.plot(list(range(200,300)),Results31[200:], '--k', linewidth=4.0, label='U')\n",
    "\n",
    "\n",
    "\n",
    "\n",
    "plt.legend(loc='lower right', fontsize=28)\n",
    "\n",
    "plt.xlabel('Epochs', fontsize=28)\n",
    "plt.ylabel('Acc', fontsize=28)\n",
    "plt.xticks(fontsize=25)\n",
    "plt.yticks(fontsize=25)\n",
    "plt.ylim([0,101])\n",
    "plt.grid()\n",
    "plt.show()\n"
   ]
  },
  {
   "cell_type": "code",
   "execution_count": null,
   "metadata": {},
   "outputs": [],
   "source": []
  },
  {
   "cell_type": "code",
   "execution_count": null,
   "metadata": {},
   "outputs": [],
   "source": []
  },
  {
   "cell_type": "code",
   "execution_count": null,
   "metadata": {},
   "outputs": [],
   "source": []
  }
 ],
 "metadata": {
  "kernelspec": {
   "display_name": "Python 3",
   "language": "python",
   "name": "python3"
  },
  "language_info": {
   "codemirror_mode": {
    "name": "ipython",
    "version": 3
   },
   "file_extension": ".py",
   "mimetype": "text/x-python",
   "name": "python",
   "nbconvert_exporter": "python",
   "pygments_lexer": "ipython3",
   "version": "3.7.9"
  }
 },
 "nbformat": 4,
 "nbformat_minor": 2
}
