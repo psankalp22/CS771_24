{
 "cells": [
  {
   "cell_type": "markdown",
   "id": "d807bb79-491f-452c-9900-68f2bbfd60b0",
   "metadata": {},
   "source": [
    "## Importing Libraries"
   ]
  },
  {
   "cell_type": "code",
   "execution_count": 1,
   "id": "6411d760-cbfd-43fe-af1c-4398fc41cfbf",
   "metadata": {},
   "outputs": [],
   "source": [
    "import torch\n",
    "import torch.nn as nn\n",
    "from torch.utils.data import Dataset, DataLoader\n",
    "import numpy as np\n",
    "from sklearn.metrics import accuracy_score\n",
    "import warnings\n",
    "from torchvision import models, transforms\n",
    "from tqdm import tqdm\n",
    "import matplotlib.pyplot as plt\n"
   ]
  },
  {
   "cell_type": "markdown",
   "id": "8902800a-390f-43d0-8f82-172abb4ec2e0",
   "metadata": {},
   "source": [
    "## Custom PyTorch Dataset"
   ]
  },
  {
   "cell_type": "code",
   "execution_count": 2,
   "id": "c8d3622d-23e3-4ee2-b25d-2bb0eaed7bd7",
   "metadata": {},
   "outputs": [],
   "source": [
    "\n",
    "class CustomDataset(Dataset):\n",
    "    def __init__(self, data, targets=None):\n",
    "        self.data = data\n",
    "        self.targets = targets\n",
    "\n",
    "    def __len__(self):\n",
    "        return len(self.data)\n",
    "\n",
    "    def __getitem__(self, index):\n",
    "        if self.targets is not None:\n",
    "            return self.data[index], self.targets[index]\n",
    "        return self.data[index]\n"
   ]
  },
  {
   "cell_type": "markdown",
   "id": "6def12aa-fc4e-45a3-911b-09d85bdf83bb",
   "metadata": {},
   "source": [
    "## Feature Extraction Using ResNet50 (pretrained)"
   ]
  },
  {
   "cell_type": "code",
   "execution_count": 3,
   "id": "cf6b4ab8-e187-4360-94a6-ab9e3b768725",
   "metadata": {},
   "outputs": [],
   "source": [
    "\n",
    "class FeatureExtractor:\n",
    "    def __init__(self):\n",
    "        resnet = models.resnet50(pretrained=True)\n",
    "        self.model = nn.Sequential(*list(resnet.children())[:-1])\n",
    "        for param in resnet.parameters():\n",
    "            param.requires_grad = False\n",
    "        for param in resnet.layer4.parameters():\n",
    "            param.requires_grad = True\n",
    "        self.model.eval()\n",
    "\n",
    "    def extract_features(self, images):\n",
    "        images = images.permute(0, 3, 1, 2)\n",
    "        normalize = transforms.Normalize(mean=[0.485, 0.456, 0.406], std=[0.229, 0.224, 0.225])\n",
    "        images = normalize(images)\n",
    "        with torch.no_grad():\n",
    "            return self.model(images).squeeze()\n"
   ]
  },
  {
   "cell_type": "markdown",
   "id": "59a9cc2e-38ce-4933-b6ed-ee7e1f67154a",
   "metadata": {},
   "source": [
    "## Classification Model"
   ]
  },
  {
   "cell_type": "code",
   "execution_count": 4,
   "id": "75966b1a-e73f-48cf-8548-df25766e684a",
   "metadata": {},
   "outputs": [],
   "source": [
    "\n",
    "class Classifier(nn.Module):\n",
    "    def __init__(self, input_size, output_size):\n",
    "        super(Classifier, self).__init__()\n",
    "        self.network = nn.Sequential(\n",
    "            nn.Linear(input_size, 256),\n",
    "            nn.ReLU(),\n",
    "            nn.Linear(256, output_size)\n",
    "        )\n",
    "\n",
    "    def forward(self, x):\n",
    "        return self.network(x)\n"
   ]
  },
  {
   "cell_type": "markdown",
   "id": "ec6780fe-2439-4093-b116-6d5870fdc525",
   "metadata": {},
   "source": [
    "## Label Smoothing Loss Function"
   ]
  },
  {
   "cell_type": "code",
   "execution_count": 5,
   "id": "f24b9fdf-6af5-4500-b3e0-fb9caefac491",
   "metadata": {},
   "outputs": [],
   "source": [
    "class LabelSmoothing(nn.Module):\n",
    "    def __init__(self, smoothing=0.1):\n",
    "        super(LabelSmoothing, self).__init__()\n",
    "        self.smoothing = smoothing\n",
    "\n",
    "    def forward(self, predictions, targets):\n",
    "        confidence = 1.0 - self.smoothing\n",
    "        smooth = self.smoothing / predictions.size(1)\n",
    "        one_hot = torch.zeros_like(predictions).scatter(1, targets.unsqueeze(1), 1)\n",
    "        log_probs = predictions.log_softmax(dim=-1)\n",
    "        return -(confidence * one_hot + smooth).mul(log_probs).sum(dim=1).mean()\n"
   ]
  },
  {
   "cell_type": "markdown",
   "id": "88e402dc-9b68-4ad0-a85f-93ff6d01be9c",
   "metadata": {},
   "source": [
    "## Function to Evaluate Model"
   ]
  },
  {
   "cell_type": "code",
   "execution_count": 6,
   "id": "77ab1d2e-e0c9-4d0c-a7ea-6af89f6da462",
   "metadata": {},
   "outputs": [],
   "source": [
    "\n",
    "def evaluate_model(model, loader, device):\n",
    "    model.eval()\n",
    "    all_predictions, all_targets = [], []\n",
    "    with torch.no_grad():\n",
    "        for inputs, targets in loader:\n",
    "            inputs, targets = inputs.to(device), targets.to(device)\n",
    "            outputs = model(inputs)\n",
    "            predictions = torch.argmax(outputs, dim=1)\n",
    "            all_predictions.extend(predictions.cpu().numpy())\n",
    "            all_targets.extend(targets.cpu().numpy())\n",
    "    return accuracy_score(all_targets, all_predictions)\n"
   ]
  },
  {
   "cell_type": "markdown",
   "id": "f659b898-21b5-413d-8f31-53ae2d685fb7",
   "metadata": {},
   "source": [
    "## Data Loading Function"
   ]
  },
  {
   "cell_type": "code",
   "execution_count": 7,
   "id": "19327861-5c5a-4c60-8335-674aaac5d1a2",
   "metadata": {},
   "outputs": [],
   "source": [
    "\n",
    "def load_dataset(filepath):\n",
    "    data = torch.load(filepath)\n",
    "    images = data.get('data')\n",
    "    if images is None:\n",
    "        raise ValueError(f\"No 'data' key found in {filepath}\")\n",
    "    \n",
    "    labels = data.get('targets', None)\n",
    "    images = torch.tensor(images / 255.0, dtype=torch.float32).contiguous()\n",
    "    labels = torch.tensor(labels, dtype=torch.long) if labels is not None else None\n",
    "    return images, labels\n"
   ]
  },
  {
   "cell_type": "markdown",
   "id": "df6a8190-634a-4ee0-a96a-86fe95710ff2",
   "metadata": {},
   "source": [
    "## Main model Training "
   ]
  },
  {
   "cell_type": "code",
   "execution_count": 8,
   "id": "662ac242-f4cd-4b81-afc3-2e6af62800f5",
   "metadata": {},
   "outputs": [
    {
     "name": "stderr",
     "output_type": "stream",
     "text": [
      "Training Model 11, Epoch 1: 100%|███████████████████████████████████████████| 40/40 [00:01<00:00, 36.91it/s, loss=1.34]\n",
      "Training Model 11, Epoch 2: 100%|███████████████████████████████████████████| 40/40 [00:01<00:00, 31.25it/s, loss=2.38]\n",
      "Training Model 11, Epoch 3: 100%|██████████████████████████████████████████| 40/40 [00:01<00:00, 32.77it/s, loss=0.869]\n",
      "Training Model 11, Epoch 4: 100%|██████████████████████████████████████████████| 40/40 [00:01<00:00, 34.54it/s, loss=1]\n",
      "Training Model 11, Epoch 5: 100%|██████████████████████████████████████████| 40/40 [00:02<00:00, 16.23it/s, loss=0.882]\n",
      "Training Model 11, Epoch 6: 100%|██████████████████████████████████████████| 40/40 [00:01<00:00, 22.15it/s, loss=0.666]\n",
      "Training Model 11, Epoch 7: 100%|██████████████████████████████████████████| 40/40 [00:00<00:00, 40.45it/s, loss=0.813]\n",
      "Training Model 11, Epoch 8: 100%|██████████████████████████████████████████| 40/40 [00:02<00:00, 18.94it/s, loss=0.654]\n",
      "Training Model 11, Epoch 9: 100%|██████████████████████████████████████████| 40/40 [00:02<00:00, 18.79it/s, loss=0.573]\n",
      "Training Model 11, Epoch 10: 100%|██████████████████████████████████████████| 40/40 [00:02<00:00, 13.77it/s, loss=1.11]\n",
      "Training Model 11, Epoch 11: 100%|█████████████████████████████████████████| 40/40 [00:02<00:00, 19.41it/s, loss=0.589]\n",
      "Training Model 11, Epoch 12: 100%|█████████████████████████████████████████| 40/40 [00:01<00:00, 31.35it/s, loss=0.757]\n",
      "Training Model 11, Epoch 13: 100%|█████████████████████████████████████████| 40/40 [00:02<00:00, 18.27it/s, loss=0.922]\n",
      "Training Model 11, Epoch 14: 100%|█████████████████████████████████████████| 40/40 [00:01<00:00, 22.04it/s, loss=0.667]\n",
      "Training Model 11, Epoch 15: 100%|█████████████████████████████████████████| 40/40 [00:00<00:00, 71.59it/s, loss=0.758]\n",
      "Training Model 11, Epoch 16: 100%|█████████████████████████████████████████| 40/40 [00:00<00:00, 69.65it/s, loss=0.712]\n",
      "Training Model 11, Epoch 17: 100%|███████████████████████████████████████████| 40/40 [00:00<00:00, 74.76it/s, loss=0.8]\n",
      "Training Model 11, Epoch 18: 100%|█████████████████████████████████████████| 40/40 [00:00<00:00, 56.41it/s, loss=0.724]\n",
      "Training Model 11, Epoch 19: 100%|█████████████████████████████████████████| 40/40 [00:01<00:00, 37.14it/s, loss=0.817]\n",
      "Training Model 11, Epoch 20: 100%|██████████████████████████████████████████| 40/40 [00:01<00:00, 37.82it/s, loss=0.86]\n",
      "Training Model 12, Epoch 1: 100%|██████████████████████████████████████████| 40/40 [00:01<00:00, 36.29it/s, loss=0.948]\n",
      "Training Model 12, Epoch 2: 100%|██████████████████████████████████████████| 40/40 [00:01<00:00, 30.98it/s, loss=0.958]\n",
      "Training Model 12, Epoch 3: 100%|██████████████████████████████████████████| 40/40 [00:01<00:00, 27.63it/s, loss=0.764]\n",
      "Training Model 12, Epoch 4: 100%|██████████████████████████████████████████| 40/40 [00:01<00:00, 37.40it/s, loss=0.696]\n",
      "Training Model 12, Epoch 5: 100%|██████████████████████████████████████████| 40/40 [00:01<00:00, 31.51it/s, loss=0.971]\n",
      "Training Model 13, Epoch 1: 100%|██████████████████████████████████████████| 40/40 [00:00<00:00, 86.47it/s, loss=0.854]\n",
      "Training Model 13, Epoch 2: 100%|██████████████████████████████████████████| 40/40 [00:00<00:00, 73.55it/s, loss=0.716]\n",
      "Training Model 13, Epoch 3: 100%|██████████████████████████████████████████| 40/40 [00:00<00:00, 69.29it/s, loss=0.868]\n",
      "Training Model 13, Epoch 4: 100%|███████████████████████████████████████████| 40/40 [00:00<00:00, 71.11it/s, loss=1.05]\n",
      "Training Model 13, Epoch 5: 100%|██████████████████████████████████████████| 40/40 [00:00<00:00, 73.66it/s, loss=0.877]\n",
      "Training Model 14, Epoch 1: 100%|██████████████████████████████████████████| 40/40 [00:00<00:00, 67.72it/s, loss=0.754]\n",
      "Training Model 14, Epoch 2: 100%|██████████████████████████████████████████| 40/40 [00:00<00:00, 64.18it/s, loss=0.825]\n",
      "Training Model 14, Epoch 3: 100%|███████████████████████████████████████████| 40/40 [00:00<00:00, 68.41it/s, loss=1.05]\n",
      "Training Model 14, Epoch 4: 100%|██████████████████████████████████████████| 40/40 [00:00<00:00, 67.81it/s, loss=0.764]\n",
      "Training Model 14, Epoch 5: 100%|██████████████████████████████████████████| 40/40 [00:00<00:00, 65.61it/s, loss=0.894]\n",
      "Training Model 15, Epoch 1: 100%|██████████████████████████████████████████| 40/40 [00:00<00:00, 65.00it/s, loss=0.582]\n",
      "Training Model 15, Epoch 2: 100%|██████████████████████████████████████████| 40/40 [00:00<00:00, 67.05it/s, loss=0.856]\n",
      "Training Model 15, Epoch 3: 100%|██████████████████████████████████████████| 40/40 [00:00<00:00, 59.67it/s, loss=0.776]\n",
      "Training Model 15, Epoch 4: 100%|██████████████████████████████████████████| 40/40 [00:00<00:00, 64.24it/s, loss=0.827]\n",
      "Training Model 15, Epoch 5: 100%|███████████████████████████████████████████| 40/40 [00:00<00:00, 63.58it/s, loss=0.89]\n",
      "Training Model 16, Epoch 1: 100%|███████████████████████████████████████████| 40/40 [00:00<00:00, 60.46it/s, loss=1.05]\n",
      "Training Model 16, Epoch 2: 100%|██████████████████████████████████████████| 40/40 [00:00<00:00, 58.73it/s, loss=0.929]\n",
      "Training Model 16, Epoch 3: 100%|███████████████████████████████████████████| 40/40 [00:00<00:00, 60.23it/s, loss=0.72]\n",
      "Training Model 16, Epoch 4: 100%|██████████████████████████████████████████| 40/40 [00:00<00:00, 66.84it/s, loss=0.586]\n",
      "Training Model 16, Epoch 5: 100%|███████████████████████████████████████████| 40/40 [00:00<00:00, 65.41it/s, loss=1.03]\n",
      "Training Model 17, Epoch 1: 100%|████████████████████████████████████████████| 40/40 [00:00<00:00, 57.39it/s, loss=1.1]\n",
      "Training Model 17, Epoch 2: 100%|███████████████████████████████████████████| 40/40 [00:00<00:00, 58.85it/s, loss=1.04]\n",
      "Training Model 17, Epoch 3: 100%|██████████████████████████████████████████| 40/40 [00:00<00:00, 55.97it/s, loss=0.753]\n",
      "Training Model 17, Epoch 4: 100%|██████████████████████████████████████████| 40/40 [00:00<00:00, 60.39it/s, loss=0.684]\n",
      "Training Model 17, Epoch 5: 100%|██████████████████████████████████████████| 40/40 [00:00<00:00, 62.90it/s, loss=0.634]\n",
      "Training Model 18, Epoch 1: 100%|██████████████████████████████████████████| 40/40 [00:00<00:00, 62.45it/s, loss=0.837]\n",
      "Training Model 18, Epoch 2: 100%|██████████████████████████████████████████| 40/40 [00:00<00:00, 64.07it/s, loss=0.737]\n",
      "Training Model 18, Epoch 3: 100%|██████████████████████████████████████████| 40/40 [00:00<00:00, 57.67it/s, loss=0.697]\n",
      "Training Model 18, Epoch 4: 100%|██████████████████████████████████████████| 40/40 [00:00<00:00, 60.70it/s, loss=0.744]\n",
      "Training Model 18, Epoch 5: 100%|██████████████████████████████████████████| 40/40 [00:00<00:00, 58.99it/s, loss=0.904]\n",
      "Training Model 19, Epoch 1: 100%|███████████████████████████████████████████| 40/40 [00:00<00:00, 56.87it/s, loss=1.03]\n",
      "Training Model 19, Epoch 2: 100%|██████████████████████████████████████████| 40/40 [00:00<00:00, 56.80it/s, loss=0.839]\n",
      "Training Model 19, Epoch 3: 100%|██████████████████████████████████████████| 40/40 [00:00<00:00, 53.76it/s, loss=0.673]\n",
      "Training Model 19, Epoch 4: 100%|██████████████████████████████████████████| 40/40 [00:00<00:00, 57.48it/s, loss=0.972]\n",
      "Training Model 19, Epoch 5: 100%|██████████████████████████████████████████| 40/40 [00:00<00:00, 53.57it/s, loss=0.785]\n",
      "Training Model 20, Epoch 1: 100%|██████████████████████████████████████████| 40/40 [00:00<00:00, 59.94it/s, loss=0.733]\n",
      "Training Model 20, Epoch 2: 100%|███████████████████████████████████████████| 40/40 [00:00<00:00, 54.22it/s, loss=1.11]\n",
      "Training Model 20, Epoch 3: 100%|██████████████████████████████████████████| 40/40 [00:00<00:00, 51.56it/s, loss=0.772]\n",
      "Training Model 20, Epoch 4: 100%|███████████████████████████████████████████| 40/40 [00:00<00:00, 53.02it/s, loss=1.01]\n",
      "Training Model 20, Epoch 5: 100%|██████████████████████████████████████████| 40/40 [00:00<00:00, 53.28it/s, loss=0.669]\n"
     ]
    },
    {
     "name": "stdout",
     "output_type": "stream",
     "text": [
      "Final Accuracy Matrix:\n",
      "[[0.6416 0.642  0.6244 0.6396 0.6464 0.6384 0.6256 0.6168 0.6292 0.634\n",
      "  0.5508 0.     0.     0.     0.     0.     0.     0.     0.     0.    ]\n",
      " [0.6424 0.6424 0.6244 0.6392 0.6464 0.638  0.6256 0.6184 0.6296 0.6336\n",
      "  0.5508 0.414  0.     0.     0.     0.     0.     0.     0.     0.    ]\n",
      " [0.6424 0.6428 0.6248 0.6392 0.6464 0.638  0.6256 0.6184 0.63   0.6336\n",
      "  0.5508 0.414  0.5264 0.     0.     0.     0.     0.     0.     0.    ]\n",
      " [0.6424 0.6428 0.6248 0.6392 0.6464 0.638  0.6256 0.6184 0.63   0.6336\n",
      "  0.5508 0.414  0.5264 0.5232 0.     0.     0.     0.     0.     0.    ]\n",
      " [0.6424 0.6428 0.6248 0.6392 0.6464 0.638  0.6256 0.6184 0.63   0.6336\n",
      "  0.5508 0.414  0.5264 0.5232 0.6272 0.     0.     0.     0.     0.    ]\n",
      " [0.6424 0.6428 0.6248 0.6392 0.6464 0.638  0.6256 0.6184 0.63   0.6336\n",
      "  0.5508 0.414  0.5264 0.5232 0.6272 0.5176 0.     0.     0.     0.    ]\n",
      " [0.6424 0.6428 0.6248 0.6392 0.6464 0.638  0.6256 0.6184 0.63   0.6336\n",
      "  0.5508 0.414  0.5264 0.5232 0.6272 0.5176 0.4624 0.     0.     0.    ]\n",
      " [0.6424 0.6428 0.6248 0.6392 0.6464 0.638  0.6256 0.6184 0.63   0.6336\n",
      "  0.5508 0.414  0.5264 0.5232 0.6272 0.5176 0.4624 0.5104 0.     0.    ]\n",
      " [0.6424 0.6428 0.6248 0.6392 0.6464 0.638  0.6256 0.6184 0.63   0.6336\n",
      "  0.5508 0.414  0.5264 0.5232 0.6272 0.5176 0.4624 0.5104 0.5536 0.    ]\n",
      " [0.6424 0.6428 0.6248 0.6392 0.6464 0.638  0.6256 0.6184 0.63   0.6336\n",
      "  0.5508 0.414  0.5264 0.5232 0.6272 0.5176 0.4624 0.5104 0.5536 0.5792]]\n",
      "Model saved as overall_trained_model.pth\n"
     ]
    },
    {
     "data": {
      "image/png": "[encoded data removed]",
      "text/plain": [
       "<Figure size 1200x800 with 2 Axes>"
      ]
     },
     "metadata": {},
     "output_type": "display_data"
    }
   ],
   "source": [
    "\n",
    "def train_model():\n",
    "    warnings.filterwarnings(\"ignore\")\n",
    "    device = torch.device(\"cuda\" if torch.cuda.is_available() else \"cpu\")\n",
    "    num_classes, batch_size, feature_size = 10, 64, 2048\n",
    "    num_epochs, lr = 20, 0.001\n",
    "\n",
    "    train_paths = [f\"dataset/dataset/part_one_dataset/train_data/{i}_train_data.tar.pth\" for i in range(1, 11)]\n",
    "    heldout_paths_one = [f\"dataset/dataset/part_one_dataset/eval_data/{i}_eval_data.tar.pth\" for i in range(1, 11)]\n",
    "    heldout_paths_two = [f\"dataset/dataset/part_two_dataset/eval_data/{i}_eval_data.tar.pth\" for i in range(1, 11)]\n",
    "\n",
    "    model = Classifier(input_size=feature_size, output_size=num_classes).to(device)\n",
    "    pretrained_state_dict = torch.load(\"pretrained_model.pth\")  # Load the pretrained state_dict\n",
    "    new_state_dict = {key.replace(\"fc\", \"network\"): value for key, value in pretrained_state_dict.items()}\n",
    "    model.load_state_dict(new_state_dict)  # Load the modified state_dict\n",
    "    model.eval()\n",
    "\n",
    "\n",
    "    feature_extractor = FeatureExtractor()\n",
    "    optimizer = torch.optim.Adam(model.parameters(), lr=lr)\n",
    "    scheduler = torch.optim.lr_scheduler.StepLR(optimizer, step_size=5, gamma=0.1)\n",
    "    loss_fn = LabelSmoothing(smoothing=0.1)\n",
    "\n",
    "    accuracy_matrix = np.zeros((10, 20))\n",
    "\n",
    "    for i, train_path in enumerate(train_paths):\n",
    "        train_images, train_labels = load_dataset(train_path)\n",
    "        train_features = feature_extractor.extract_features(train_images).to(device)\n",
    "        \n",
    "        if train_labels is None:\n",
    "            with torch.no_grad():\n",
    "                train_labels = torch.argmax(model(train_features), dim=1)\n",
    "        \n",
    "        train_loader = DataLoader(CustomDataset(train_features, train_labels), batch_size=batch_size, shuffle=True)\n",
    "\n",
    "        for epoch in range(num_epochs if i == 0 else 5):\n",
    "            model.train()\n",
    "            pbar = tqdm(train_loader, desc=f\"Training Model {i+11}, Epoch {epoch+1}\")\n",
    "            for inputs, targets in pbar:\n",
    "                inputs, targets = inputs.to(device), targets.to(device)\n",
    "                optimizer.zero_grad()\n",
    "                outputs = model(inputs)\n",
    "                loss = loss_fn(outputs, targets)\n",
    "                loss.backward()\n",
    "                optimizer.step()\n",
    "                pbar.set_postfix(loss=loss.item())\n",
    "            scheduler.step()\n",
    "\n",
    "        for j, eval_path in enumerate(heldout_paths_one + heldout_paths_two[:i+1]):\n",
    "            eval_images, eval_labels = load_dataset(eval_path)\n",
    "            eval_features = feature_extractor.extract_features(eval_images).to(device)\n",
    "            eval_loader = DataLoader(CustomDataset(eval_features, eval_labels), batch_size=batch_size)\n",
    "            accuracy = evaluate_model(model, eval_loader, device)\n",
    "            accuracy_matrix[i, j] = accuracy\n",
    "\n",
    "    print(\"Final Accuracy Matrix:\")\n",
    "    print(accuracy_matrix)\n",
    "    torch.save(model.state_dict(), \"overall_trained_model.pth\")\n",
    "    print(\"Model saved as overall_trained_model.pth\")\n",
    "\n",
    "\n",
    "    plt.figure(figsize=(12, 8))\n",
    "    plt.imshow(accuracy_matrix, cmap=\"viridis\", aspect=\"auto\", interpolation=\"nearest\")\n",
    "    plt.colorbar(label=\"Accuracy\")\n",
    "    plt.title(\"Accuracy Matrix\", fontsize=16)\n",
    "    plt.xlabel(\"Held-out Dataset (j)\", fontsize=12)\n",
    "    plt.ylabel(\"Training Dataset (i)\", fontsize=12)\n",
    "    plt.xticks(np.arange(20), [f\"D{i + 1}\" for i in range(20)], rotation=45, ha=\"right\")\n",
    "    plt.yticks(np.arange(10), [f\"D{i + 1}\" for i in range(10)])\n",
    "    plt.tight_layout()\n",
    "    plt.show()\n",
    " \n",
    "\n",
    "if __name__ == \"__main__\":\n",
    "    train_model()\n"
   ]
  }
 ],
 "metadata": {
  "kernelspec": {
   "display_name": "Python 3 (ipykernel)",
   "language": "python",
   "name": "python3"
  },
  "language_info": {
   "codemirror_mode": {
    "name": "ipython",
    "version": 3
   },
   "file_extension": ".py",
   "mimetype": "text/x-python",
   "name": "python",
   "nbconvert_exporter": "python",
   "pygments_lexer": "ipython3",
   "version": "3.12.7"
  }
 },
 "nbformat": 4,
 "nbformat_minor": 5
}
